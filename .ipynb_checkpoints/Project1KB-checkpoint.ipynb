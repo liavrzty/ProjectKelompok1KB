{
 "cells": [
  {
   "cell_type": "code",
   "execution_count": 3,
   "id": "fcc7f5f2-79a6-4189-ad14-f3fd5609132e",
   "metadata": {},
   "outputs": [
    {
     "name": "stdout",
     "output_type": "stream",
     "text": [
      "Collecting seaborn\n",
      "  Obtaining dependency information for seaborn from https://files.pythonhosted.org/packages/83/11/00d3c3dfc25ad54e731d91449895a79e4bf2384dc3ac01809010ba88f6d5/seaborn-0.13.2-py3-none-any.whl.metadata\n",
      "  Downloading seaborn-0.13.2-py3-none-any.whl.metadata (5.4 kB)\n",
      "Requirement already satisfied: numpy!=1.24.0,>=1.20 in c:\\users\\asus_\\appdata\\local\\programs\\python\\python311\\lib\\site-packages (from seaborn) (1.26.4)\n",
      "Requirement already satisfied: pandas>=1.2 in c:\\users\\asus_\\appdata\\local\\programs\\python\\python311\\lib\\site-packages (from seaborn) (2.2.2)\n",
      "Collecting matplotlib!=3.6.1,>=3.4 (from seaborn)\n",
      "  Obtaining dependency information for matplotlib!=3.6.1,>=3.4 from https://files.pythonhosted.org/packages/2d/d5/6227732ecab9165586966ccb54301e3164f61b470c954c4cf6940654fbe1/matplotlib-3.8.4-cp311-cp311-win_amd64.whl.metadata\n",
      "  Downloading matplotlib-3.8.4-cp311-cp311-win_amd64.whl.metadata (5.9 kB)\n",
      "Collecting contourpy>=1.0.1 (from matplotlib!=3.6.1,>=3.4->seaborn)\n",
      "  Obtaining dependency information for contourpy>=1.0.1 from https://files.pythonhosted.org/packages/d6/4f/76d0dd0bca417691918484c26c74dd9dd44fbf528bbfeb30d754886e2c54/contourpy-1.2.1-cp311-cp311-win_amd64.whl.metadata\n",
      "  Downloading contourpy-1.2.1-cp311-cp311-win_amd64.whl.metadata (5.8 kB)\n",
      "Collecting cycler>=0.10 (from matplotlib!=3.6.1,>=3.4->seaborn)\n",
      "  Obtaining dependency information for cycler>=0.10 from https://files.pythonhosted.org/packages/e7/05/c19819d5e3d95294a6f5947fb9b9629efb316b96de511b418c53d245aae6/cycler-0.12.1-py3-none-any.whl.metadata\n",
      "  Downloading cycler-0.12.1-py3-none-any.whl.metadata (3.8 kB)\n",
      "Collecting fonttools>=4.22.0 (from matplotlib!=3.6.1,>=3.4->seaborn)\n",
      "  Obtaining dependency information for fonttools>=4.22.0 from https://files.pythonhosted.org/packages/c5/d4/f426fa1ca42e47bcfff0c878fa9d49d9c03379d00903a7c178f95b97867a/fonttools-4.51.0-cp311-cp311-win_amd64.whl.metadata\n",
      "  Downloading fonttools-4.51.0-cp311-cp311-win_amd64.whl.metadata (162 kB)\n",
      "     ---------------------------------------- 0.0/162.8 kB ? eta -:--:--\n",
      "     -- ------------------------------------- 10.2/162.8 kB ? eta -:--:--\n",
      "     ------ ------------------------------ 30.7/162.8 kB 660.6 kB/s eta 0:00:01\n",
      "     ------------------------ ----------- 112.6/162.8 kB 819.2 kB/s eta 0:00:01\n",
      "     --------------------------------- -- 153.6/162.8 kB 833.5 kB/s eta 0:00:01\n",
      "     ------------------------------------ 162.8/162.8 kB 751.3 kB/s eta 0:00:00\n",
      "Collecting kiwisolver>=1.3.1 (from matplotlib!=3.6.1,>=3.4->seaborn)\n",
      "  Obtaining dependency information for kiwisolver>=1.3.1 from https://files.pythonhosted.org/packages/1e/37/d3c2d4ba2719059a0f12730947bbe1ad5ee8bff89e8c35319dcb2c9ddb4c/kiwisolver-1.4.5-cp311-cp311-win_amd64.whl.metadata\n",
      "  Downloading kiwisolver-1.4.5-cp311-cp311-win_amd64.whl.metadata (6.5 kB)\n",
      "Requirement already satisfied: packaging>=20.0 in c:\\users\\asus_\\appdata\\local\\programs\\python\\python311\\lib\\site-packages (from matplotlib!=3.6.1,>=3.4->seaborn) (23.1)\n",
      "Collecting pillow>=8 (from matplotlib!=3.6.1,>=3.4->seaborn)\n",
      "  Obtaining dependency information for pillow>=8 from https://files.pythonhosted.org/packages/0a/16/c83877524c47976f16703d2e05c363244bc1e60ab439e078b3cd046d07db/pillow-10.3.0-cp311-cp311-win_amd64.whl.metadata\n",
      "  Downloading pillow-10.3.0-cp311-cp311-win_amd64.whl.metadata (9.4 kB)\n",
      "Collecting pyparsing>=2.3.1 (from matplotlib!=3.6.1,>=3.4->seaborn)\n",
      "  Obtaining dependency information for pyparsing>=2.3.1 from https://files.pythonhosted.org/packages/9d/ea/6d76df31432a0e6fdf81681a895f009a4bb47b3c39036db3e1b528191d52/pyparsing-3.1.2-py3-none-any.whl.metadata\n",
      "  Downloading pyparsing-3.1.2-py3-none-any.whl.metadata (5.1 kB)\n",
      "Requirement already satisfied: python-dateutil>=2.7 in c:\\users\\asus_\\appdata\\local\\programs\\python\\python311\\lib\\site-packages (from matplotlib!=3.6.1,>=3.4->seaborn) (2.8.2)\n",
      "Requirement already satisfied: pytz>=2020.1 in c:\\users\\asus_\\appdata\\local\\programs\\python\\python311\\lib\\site-packages (from pandas>=1.2->seaborn) (2024.1)\n",
      "Requirement already satisfied: tzdata>=2022.7 in c:\\users\\asus_\\appdata\\local\\programs\\python\\python311\\lib\\site-packages (from pandas>=1.2->seaborn) (2022.7)\n",
      "Requirement already satisfied: six>=1.5 in c:\\users\\asus_\\appdata\\local\\programs\\python\\python311\\lib\\site-packages (from python-dateutil>=2.7->matplotlib!=3.6.1,>=3.4->seaborn) (1.16.0)\n",
      "Downloading seaborn-0.13.2-py3-none-any.whl (294 kB)\n",
      "   ---------------------------------------- 0.0/294.9 kB ? eta -:--:--\n",
      "   ------------------------------- -------- 235.5/294.9 kB 7.3 MB/s eta 0:00:01\n",
      "   ---------------------------------------- 294.9/294.9 kB 6.2 MB/s eta 0:00:00\n",
      "Downloading matplotlib-3.8.4-cp311-cp311-win_amd64.whl (7.7 MB)\n",
      "   ---------------------------------------- 0.0/7.7 MB ? eta -:--:--\n",
      "   - -------------------------------------- 0.2/7.7 MB 7.6 MB/s eta 0:00:01\n",
      "   - -------------------------------------- 0.4/7.7 MB 5.6 MB/s eta 0:00:02\n",
      "   -- ------------------------------------- 0.5/7.7 MB 3.6 MB/s eta 0:00:02\n",
      "   -- ------------------------------------- 0.6/7.7 MB 3.8 MB/s eta 0:00:02\n",
      "   -- ------------------------------------- 0.6/7.7 MB 3.8 MB/s eta 0:00:02\n",
      "   --- ------------------------------------ 0.6/7.7 MB 2.2 MB/s eta 0:00:04\n",
      "   --- ------------------------------------ 0.7/7.7 MB 2.4 MB/s eta 0:00:03\n",
      "   --- ------------------------------------ 0.7/7.7 MB 2.4 MB/s eta 0:00:03\n",
      "   --- ------------------------------------ 0.7/7.7 MB 2.4 MB/s eta 0:00:03\n",
      "   --- ------------------------------------ 0.7/7.7 MB 2.4 MB/s eta 0:00:03\n",
      "   --- ------------------------------------ 0.7/7.7 MB 2.4 MB/s eta 0:00:03\n",
      "   --- ------------------------------------ 0.7/7.7 MB 2.4 MB/s eta 0:00:03\n",
      "   --- ------------------------------------ 0.7/7.7 MB 2.4 MB/s eta 0:00:03\n",
      "   --- ------------------------------------ 0.7/7.7 MB 2.4 MB/s eta 0:00:03\n",
      "   ---- ----------------------------------- 0.8/7.7 MB 1.1 MB/s eta 0:00:07\n",
      "   ---- ----------------------------------- 0.9/7.7 MB 1.2 MB/s eta 0:00:06\n",
      "   ----- ---------------------------------- 1.0/7.7 MB 1.2 MB/s eta 0:00:06\n",
      "   ----- ---------------------------------- 1.1/7.7 MB 1.3 MB/s eta 0:00:05\n",
      "   ------ --------------------------------- 1.3/7.7 MB 1.5 MB/s eta 0:00:05\n",
      "   -------- ------------------------------- 1.6/7.7 MB 1.7 MB/s eta 0:00:04\n",
      "   --------- ------------------------------ 1.8/7.7 MB 1.8 MB/s eta 0:00:04\n",
      "   ---------- ----------------------------- 2.0/7.7 MB 1.9 MB/s eta 0:00:03\n",
      "   ----------- ---------------------------- 2.2/7.7 MB 2.0 MB/s eta 0:00:03\n",
      "   ------------ --------------------------- 2.3/7.7 MB 2.0 MB/s eta 0:00:03\n",
      "   ------------ --------------------------- 2.3/7.7 MB 2.0 MB/s eta 0:00:03\n",
      "   -------------- ------------------------- 2.7/7.7 MB 2.2 MB/s eta 0:00:03\n",
      "   --------------- ------------------------ 2.9/7.7 MB 2.2 MB/s eta 0:00:03\n",
      "   ---------------- ----------------------- 3.1/7.7 MB 2.3 MB/s eta 0:00:02\n",
      "   ---------------- ----------------------- 3.1/7.7 MB 2.3 MB/s eta 0:00:02\n",
      "   ----------------- ---------------------- 3.4/7.7 MB 2.4 MB/s eta 0:00:02\n",
      "   ------------------ --------------------- 3.6/7.7 MB 2.4 MB/s eta 0:00:02\n",
      "   ------------------- -------------------- 3.8/7.7 MB 2.5 MB/s eta 0:00:02\n",
      "   -------------------- ------------------- 3.9/7.7 MB 2.5 MB/s eta 0:00:02\n",
      "   -------------------- ------------------- 3.9/7.7 MB 2.4 MB/s eta 0:00:02\n",
      "   -------------------- ------------------- 4.0/7.7 MB 2.4 MB/s eta 0:00:02\n",
      "   -------------------- ------------------- 4.0/7.7 MB 2.3 MB/s eta 0:00:02\n",
      "   ---------------------- ----------------- 4.2/7.7 MB 2.4 MB/s eta 0:00:02\n",
      "   ---------------------- ----------------- 4.4/7.7 MB 2.4 MB/s eta 0:00:02\n",
      "   ----------------------- ---------------- 4.6/7.7 MB 2.5 MB/s eta 0:00:02\n",
      "   ------------------------ --------------- 4.7/7.7 MB 2.5 MB/s eta 0:00:02\n",
      "   ------------------------- -------------- 4.9/7.7 MB 2.5 MB/s eta 0:00:02\n",
      "   -------------------------- ------------- 5.0/7.7 MB 2.5 MB/s eta 0:00:02\n",
      "   --------------------------- ------------ 5.3/7.7 MB 2.6 MB/s eta 0:00:01\n",
      "   ---------------------------- ----------- 5.4/7.7 MB 2.6 MB/s eta 0:00:01\n",
      "   ----------------------------- ---------- 5.6/7.7 MB 2.6 MB/s eta 0:00:01\n",
      "   ------------------------------ --------- 5.8/7.7 MB 2.6 MB/s eta 0:00:01\n",
      "   ------------------------------- -------- 5.9/7.7 MB 2.7 MB/s eta 0:00:01\n",
      "   -------------------------------- ------- 6.1/7.7 MB 2.7 MB/s eta 0:00:01\n",
      "   --------------------------------- ------ 6.4/7.7 MB 2.7 MB/s eta 0:00:01\n",
      "   ---------------------------------- ----- 6.5/7.7 MB 2.7 MB/s eta 0:00:01\n",
      "   ----------------------------------- ---- 6.7/7.7 MB 2.7 MB/s eta 0:00:01\n",
      "   ------------------------------------ --- 6.9/7.7 MB 2.8 MB/s eta 0:00:01\n",
      "   ------------------------------------ --- 7.1/7.7 MB 2.8 MB/s eta 0:00:01\n",
      "   ------------------------------------- -- 7.2/7.7 MB 2.8 MB/s eta 0:00:01\n",
      "   -------------------------------------- - 7.4/7.7 MB 2.8 MB/s eta 0:00:01\n",
      "   ---------------------------------------  7.6/7.7 MB 2.8 MB/s eta 0:00:01\n",
      "   ---------------------------------------  7.6/7.7 MB 2.8 MB/s eta 0:00:01\n",
      "   ---------------------------------------- 7.7/7.7 MB 2.8 MB/s eta 0:00:00\n",
      "Downloading contourpy-1.2.1-cp311-cp311-win_amd64.whl (188 kB)\n",
      "   ---------------------------------------- 0.0/188.2 kB ? eta -:--:--\n",
      "   ---------------------------------------- 188.2/188.2 kB 5.7 MB/s eta 0:00:00\n",
      "Downloading cycler-0.12.1-py3-none-any.whl (8.3 kB)\n",
      "Downloading fonttools-4.51.0-cp311-cp311-win_amd64.whl (2.2 MB)\n",
      "   ---------------------------------------- 0.0/2.2 MB ? eta -:--:--\n",
      "   ---- ----------------------------------- 0.2/2.2 MB 4.6 MB/s eta 0:00:01\n",
      "   ------- -------------------------------- 0.4/2.2 MB 4.4 MB/s eta 0:00:01\n",
      "   ---------- ----------------------------- 0.6/2.2 MB 4.1 MB/s eta 0:00:01\n",
      "   ------------- -------------------------- 0.8/2.2 MB 4.0 MB/s eta 0:00:01\n",
      "   ----------------- ---------------------- 0.9/2.2 MB 3.9 MB/s eta 0:00:01\n",
      "   -------------------- ------------------- 1.1/2.2 MB 4.1 MB/s eta 0:00:01\n",
      "   ----------------------- ---------------- 1.3/2.2 MB 3.9 MB/s eta 0:00:01\n",
      "   -------------------------- ------------- 1.5/2.2 MB 3.9 MB/s eta 0:00:01\n",
      "   ----------------------------- ---------- 1.6/2.2 MB 3.9 MB/s eta 0:00:01\n",
      "   -------------------------------- ------- 1.8/2.2 MB 3.9 MB/s eta 0:00:01\n",
      "   ------------------------------------ --- 2.0/2.2 MB 3.8 MB/s eta 0:00:01\n",
      "   -------------------------------------- - 2.1/2.2 MB 3.8 MB/s eta 0:00:01\n",
      "   ---------------------------------------- 2.2/2.2 MB 3.7 MB/s eta 0:00:00\n",
      "Downloading kiwisolver-1.4.5-cp311-cp311-win_amd64.whl (56 kB)\n",
      "   ---------------------------------------- 0.0/56.1 kB ? eta -:--:--\n",
      "   ---------------------------------------- 56.1/56.1 kB 3.1 MB/s eta 0:00:00\n",
      "Downloading pillow-10.3.0-cp311-cp311-win_amd64.whl (2.5 MB)\n",
      "   ---------------------------------------- 0.0/2.5 MB ? eta -:--:--\n",
      "   ---- ----------------------------------- 0.3/2.5 MB 9.2 MB/s eta 0:00:01\n",
      "   ----- ---------------------------------- 0.3/2.5 MB 7.0 MB/s eta 0:00:01\n",
      "   ---------- ----------------------------- 0.7/2.5 MB 5.2 MB/s eta 0:00:01\n",
      "   -------------- ------------------------- 0.9/2.5 MB 4.7 MB/s eta 0:00:01\n",
      "   ----------------- ---------------------- 1.1/2.5 MB 4.6 MB/s eta 0:00:01\n",
      "   -------------------- ------------------- 1.3/2.5 MB 4.6 MB/s eta 0:00:01\n",
      "   ----------------------- ---------------- 1.5/2.5 MB 4.3 MB/s eta 0:00:01\n",
      "   ------------------------- -------------- 1.6/2.5 MB 4.3 MB/s eta 0:00:01\n",
      "   ---------------------------- ----------- 1.8/2.5 MB 4.2 MB/s eta 0:00:01\n",
      "   ------------------------------- -------- 2.0/2.5 MB 4.2 MB/s eta 0:00:01\n",
      "   --------------------------------- ------ 2.2/2.5 MB 4.0 MB/s eta 0:00:01\n",
      "   ------------------------------------ --- 2.3/2.5 MB 4.1 MB/s eta 0:00:01\n",
      "   ---------------------------------------  2.5/2.5 MB 4.0 MB/s eta 0:00:01\n",
      "   ---------------------------------------- 2.5/2.5 MB 3.8 MB/s eta 0:00:00\n",
      "Downloading pyparsing-3.1.2-py3-none-any.whl (103 kB)\n",
      "   ---------------------------------------- 0.0/103.2 kB ? eta -:--:--\n",
      "   ---------------------------------------- 103.2/103.2 kB 5.8 MB/s eta 0:00:00\n",
      "Installing collected packages: pyparsing, pillow, kiwisolver, fonttools, cycler, contourpy, matplotlib, seaborn\n",
      "Successfully installed contourpy-1.2.1 cycler-0.12.1 fonttools-4.51.0 kiwisolver-1.4.5 matplotlib-3.8.4 pillow-10.3.0 pyparsing-3.1.2 seaborn-0.13.2\n",
      "Note: you may need to restart the kernel to use updated packages.\n"
     ]
    },
    {
     "name": "stderr",
     "output_type": "stream",
     "text": [
      "\n",
      "[notice] A new release of pip is available: 23.2.1 -> 24.0\n",
      "[notice] To update, run: python.exe -m pip install --upgrade pip\n"
     ]
    }
   ],
   "source": [
    "pip install seaborn"
   ]
  },
  {
   "cell_type": "code",
   "execution_count": 4,
   "id": "308101b8-94a8-466a-8f73-846c37337812",
   "metadata": {},
   "outputs": [
    {
     "name": "stderr",
     "output_type": "stream",
     "text": [
      "Matplotlib is building the font cache; this may take a moment.\n"
     ]
    }
   ],
   "source": [
    "import numpy as np\n",
    "import pandas as pd\n",
    "import seaborn as sns\n",
    "import matplotlib.pyplot as plt"
   ]
  },
  {
   "cell_type": "code",
   "execution_count": 5,
   "id": "351b8b28-e12f-4f54-8e9d-55993e151722",
   "metadata": {},
   "outputs": [],
   "source": [
    "data = pd.read_csv(\"C:/Users/asus_/Documents/ProjectKB1/planets.csv\")"
   ]
  },
  {
   "cell_type": "code",
   "execution_count": 6,
   "id": "49b7147c-f73e-4b79-9798-abf5888114ec",
   "metadata": {},
   "outputs": [
    {
     "data": {
      "text/html": [
       "<div>\n",
       "<style scoped>\n",
       "    .dataframe tbody tr th:only-of-type {\n",
       "        vertical-align: middle;\n",
       "    }\n",
       "\n",
       "    .dataframe tbody tr th {\n",
       "        vertical-align: top;\n",
       "    }\n",
       "\n",
       "    .dataframe thead th {\n",
       "        text-align: right;\n",
       "    }\n",
       "</style>\n",
       "<table border=\"1\" class=\"dataframe\">\n",
       "  <thead>\n",
       "    <tr style=\"text-align: right;\">\n",
       "      <th></th>\n",
       "      <th>Planet</th>\n",
       "      <th>Color</th>\n",
       "      <th>Mass (10^24kg)</th>\n",
       "      <th>Diameter (km)</th>\n",
       "      <th>Density (kg/m^3)</th>\n",
       "      <th>Surface Gravity(m/s^2)</th>\n",
       "      <th>Escape Velocity (km/s)</th>\n",
       "      <th>Rotation Period (hours)</th>\n",
       "      <th>Length of Day (hours)</th>\n",
       "      <th>Distance from Sun (10^6 km)</th>\n",
       "      <th>...</th>\n",
       "      <th>Orbital Period (days)</th>\n",
       "      <th>Orbital Velocity (km/s)</th>\n",
       "      <th>Orbital Inclination (degrees)</th>\n",
       "      <th>Orbital Eccentricity</th>\n",
       "      <th>Obliquity to Orbit (degrees)</th>\n",
       "      <th>Mean Temperature (C)</th>\n",
       "      <th>Surface Pressure (bars)</th>\n",
       "      <th>Number of Moons</th>\n",
       "      <th>Ring System?</th>\n",
       "      <th>Global Magnetic Field?</th>\n",
       "    </tr>\n",
       "  </thead>\n",
       "  <tbody>\n",
       "    <tr>\n",
       "      <th>0</th>\n",
       "      <td>Mercury</td>\n",
       "      <td>Grey</td>\n",
       "      <td>0.330</td>\n",
       "      <td>4879</td>\n",
       "      <td>5429</td>\n",
       "      <td>3.7</td>\n",
       "      <td>4.3</td>\n",
       "      <td>1407.6</td>\n",
       "      <td>4222.6</td>\n",
       "      <td>57.9</td>\n",
       "      <td>...</td>\n",
       "      <td>88</td>\n",
       "      <td>47.4</td>\n",
       "      <td>7.0</td>\n",
       "      <td>0.206</td>\n",
       "      <td>0.034</td>\n",
       "      <td>167</td>\n",
       "      <td>0</td>\n",
       "      <td>0</td>\n",
       "      <td>No</td>\n",
       "      <td>Yes</td>\n",
       "    </tr>\n",
       "    <tr>\n",
       "      <th>1</th>\n",
       "      <td>Venus</td>\n",
       "      <td>Brown and Grey</td>\n",
       "      <td>4.870</td>\n",
       "      <td>12104</td>\n",
       "      <td>5243</td>\n",
       "      <td>8.9</td>\n",
       "      <td>10.4</td>\n",
       "      <td>-5832.5</td>\n",
       "      <td>2802.0</td>\n",
       "      <td>108.2</td>\n",
       "      <td>...</td>\n",
       "      <td>224.7</td>\n",
       "      <td>35.0</td>\n",
       "      <td>3.4</td>\n",
       "      <td>0.007</td>\n",
       "      <td>177.400</td>\n",
       "      <td>464</td>\n",
       "      <td>92</td>\n",
       "      <td>0</td>\n",
       "      <td>No</td>\n",
       "      <td>No</td>\n",
       "    </tr>\n",
       "    <tr>\n",
       "      <th>2</th>\n",
       "      <td>Earth</td>\n",
       "      <td>Blue, Brown Green and White</td>\n",
       "      <td>5.970</td>\n",
       "      <td>12756</td>\n",
       "      <td>5514</td>\n",
       "      <td>9.8</td>\n",
       "      <td>11.2</td>\n",
       "      <td>23.9</td>\n",
       "      <td>24.0</td>\n",
       "      <td>149.6</td>\n",
       "      <td>...</td>\n",
       "      <td>365.2</td>\n",
       "      <td>29.8</td>\n",
       "      <td>0.0</td>\n",
       "      <td>0.017</td>\n",
       "      <td>23.400</td>\n",
       "      <td>15</td>\n",
       "      <td>1</td>\n",
       "      <td>1</td>\n",
       "      <td>No</td>\n",
       "      <td>Yes</td>\n",
       "    </tr>\n",
       "    <tr>\n",
       "      <th>3</th>\n",
       "      <td>Mars</td>\n",
       "      <td>Red, Brown and Tan</td>\n",
       "      <td>0.642</td>\n",
       "      <td>6792</td>\n",
       "      <td>3934</td>\n",
       "      <td>3.7</td>\n",
       "      <td>5.0</td>\n",
       "      <td>24.6</td>\n",
       "      <td>24.7</td>\n",
       "      <td>228.0</td>\n",
       "      <td>...</td>\n",
       "      <td>687</td>\n",
       "      <td>24.1</td>\n",
       "      <td>1.8</td>\n",
       "      <td>0.094</td>\n",
       "      <td>25.200</td>\n",
       "      <td>-65</td>\n",
       "      <td>0.01</td>\n",
       "      <td>2</td>\n",
       "      <td>No</td>\n",
       "      <td>No</td>\n",
       "    </tr>\n",
       "    <tr>\n",
       "      <th>4</th>\n",
       "      <td>Jupiter</td>\n",
       "      <td>Brown, Orange and Tan, with White cloud stripes</td>\n",
       "      <td>1898.000</td>\n",
       "      <td>142984</td>\n",
       "      <td>1326</td>\n",
       "      <td>23.1</td>\n",
       "      <td>59.5</td>\n",
       "      <td>9.9</td>\n",
       "      <td>9.9</td>\n",
       "      <td>778.5</td>\n",
       "      <td>...</td>\n",
       "      <td>4331</td>\n",
       "      <td>13.1</td>\n",
       "      <td>1.3</td>\n",
       "      <td>0.049</td>\n",
       "      <td>3.100</td>\n",
       "      <td>-110</td>\n",
       "      <td>Unknown</td>\n",
       "      <td>79</td>\n",
       "      <td>Yes</td>\n",
       "      <td>Yes</td>\n",
       "    </tr>\n",
       "    <tr>\n",
       "      <th>5</th>\n",
       "      <td>Saturn</td>\n",
       "      <td>Golden, Brown, and Blue-Grey</td>\n",
       "      <td>568.000</td>\n",
       "      <td>120536</td>\n",
       "      <td>687</td>\n",
       "      <td>9.0</td>\n",
       "      <td>35.5</td>\n",
       "      <td>10.7</td>\n",
       "      <td>10.7</td>\n",
       "      <td>1432.0</td>\n",
       "      <td>...</td>\n",
       "      <td>10,747</td>\n",
       "      <td>9.7</td>\n",
       "      <td>2.5</td>\n",
       "      <td>0.052</td>\n",
       "      <td>26.700</td>\n",
       "      <td>-140</td>\n",
       "      <td>Unknown</td>\n",
       "      <td>82</td>\n",
       "      <td>Yes</td>\n",
       "      <td>Yes</td>\n",
       "    </tr>\n",
       "    <tr>\n",
       "      <th>6</th>\n",
       "      <td>Uranus</td>\n",
       "      <td>Blue-Green</td>\n",
       "      <td>86.800</td>\n",
       "      <td>51118</td>\n",
       "      <td>1270</td>\n",
       "      <td>8.7</td>\n",
       "      <td>21.3</td>\n",
       "      <td>-17.2</td>\n",
       "      <td>17.2</td>\n",
       "      <td>2867.0</td>\n",
       "      <td>...</td>\n",
       "      <td>30,589</td>\n",
       "      <td>6.8</td>\n",
       "      <td>0.8</td>\n",
       "      <td>0.047</td>\n",
       "      <td>97.800</td>\n",
       "      <td>-195</td>\n",
       "      <td>Unknown</td>\n",
       "      <td>27</td>\n",
       "      <td>Yes</td>\n",
       "      <td>Yes</td>\n",
       "    </tr>\n",
       "    <tr>\n",
       "      <th>7</th>\n",
       "      <td>Neptune</td>\n",
       "      <td>Blue</td>\n",
       "      <td>102.000</td>\n",
       "      <td>49528</td>\n",
       "      <td>1638</td>\n",
       "      <td>11.0</td>\n",
       "      <td>23.5</td>\n",
       "      <td>16.1</td>\n",
       "      <td>16.1</td>\n",
       "      <td>4515.0</td>\n",
       "      <td>...</td>\n",
       "      <td>59,800</td>\n",
       "      <td>5.4</td>\n",
       "      <td>1.8</td>\n",
       "      <td>0.010</td>\n",
       "      <td>28.300</td>\n",
       "      <td>-200</td>\n",
       "      <td>Unknown</td>\n",
       "      <td>14</td>\n",
       "      <td>Yes</td>\n",
       "      <td>Yes</td>\n",
       "    </tr>\n",
       "  </tbody>\n",
       "</table>\n",
       "<p>8 rows × 22 columns</p>\n",
       "</div>"
      ],
      "text/plain": [
       "    Planet                                            Color  Mass (10^24kg)  \\\n",
       "0  Mercury                                             Grey           0.330   \n",
       "1    Venus                                   Brown and Grey           4.870   \n",
       "2    Earth                      Blue, Brown Green and White           5.970   \n",
       "3     Mars                               Red, Brown and Tan           0.642   \n",
       "4  Jupiter  Brown, Orange and Tan, with White cloud stripes        1898.000   \n",
       "5   Saturn                     Golden, Brown, and Blue-Grey         568.000   \n",
       "6   Uranus                                       Blue-Green          86.800   \n",
       "7  Neptune                                             Blue         102.000   \n",
       "\n",
       "   Diameter (km)  Density (kg/m^3)  Surface Gravity(m/s^2)  \\\n",
       "0           4879              5429                     3.7   \n",
       "1          12104              5243                     8.9   \n",
       "2          12756              5514                     9.8   \n",
       "3           6792              3934                     3.7   \n",
       "4         142984              1326                    23.1   \n",
       "5         120536               687                     9.0   \n",
       "6          51118              1270                     8.7   \n",
       "7          49528              1638                    11.0   \n",
       "\n",
       "   Escape Velocity (km/s)  Rotation Period (hours)  Length of Day (hours)  \\\n",
       "0                     4.3                   1407.6                 4222.6   \n",
       "1                    10.4                  -5832.5                 2802.0   \n",
       "2                    11.2                     23.9                   24.0   \n",
       "3                     5.0                     24.6                   24.7   \n",
       "4                    59.5                      9.9                    9.9   \n",
       "5                    35.5                     10.7                   10.7   \n",
       "6                    21.3                    -17.2                   17.2   \n",
       "7                    23.5                     16.1                   16.1   \n",
       "\n",
       "   Distance from Sun (10^6 km)  ...  Orbital Period (days)  \\\n",
       "0                         57.9  ...                     88   \n",
       "1                        108.2  ...                  224.7   \n",
       "2                        149.6  ...                  365.2   \n",
       "3                        228.0  ...                    687   \n",
       "4                        778.5  ...                   4331   \n",
       "5                       1432.0  ...                 10,747   \n",
       "6                       2867.0  ...                 30,589   \n",
       "7                       4515.0  ...                 59,800   \n",
       "\n",
       "   Orbital Velocity (km/s) Orbital Inclination (degrees)  \\\n",
       "0                     47.4                           7.0   \n",
       "1                     35.0                           3.4   \n",
       "2                     29.8                           0.0   \n",
       "3                     24.1                           1.8   \n",
       "4                     13.1                           1.3   \n",
       "5                      9.7                           2.5   \n",
       "6                      6.8                           0.8   \n",
       "7                      5.4                           1.8   \n",
       "\n",
       "   Orbital Eccentricity  Obliquity to Orbit (degrees)  Mean Temperature (C)  \\\n",
       "0                 0.206                         0.034                   167   \n",
       "1                 0.007                       177.400                   464   \n",
       "2                 0.017                        23.400                    15   \n",
       "3                 0.094                        25.200                   -65   \n",
       "4                 0.049                         3.100                  -110   \n",
       "5                 0.052                        26.700                  -140   \n",
       "6                 0.047                        97.800                  -195   \n",
       "7                 0.010                        28.300                  -200   \n",
       "\n",
       "   Surface Pressure (bars)  Number of Moons Ring System?  \\\n",
       "0                        0                0           No   \n",
       "1                       92                0           No   \n",
       "2                        1                1           No   \n",
       "3                     0.01                2           No   \n",
       "4                  Unknown               79          Yes   \n",
       "5                  Unknown               82          Yes   \n",
       "6                  Unknown               27          Yes   \n",
       "7                  Unknown               14          Yes   \n",
       "\n",
       "   Global Magnetic Field?  \n",
       "0                     Yes  \n",
       "1                      No  \n",
       "2                     Yes  \n",
       "3                      No  \n",
       "4                     Yes  \n",
       "5                     Yes  \n",
       "6                     Yes  \n",
       "7                     Yes  \n",
       "\n",
       "[8 rows x 22 columns]"
      ]
     },
     "execution_count": 6,
     "metadata": {},
     "output_type": "execute_result"
    }
   ],
   "source": [
    "data"
   ]
  },
  {
   "cell_type": "code",
   "execution_count": 7,
   "id": "b885fa6a-0112-4b2c-8d27-2a3f0ae02fdc",
   "metadata": {},
   "outputs": [],
   "source": [
    "def one_year(s):\n",
    "    t = \"\"\n",
    "    for x in s:\n",
    "        if x=='.':\n",
    "            break\n",
    "        elif x.isnumeric():\n",
    "            t+=x\n",
    "    \n",
    "    return round(int(t)/365)"
   ]
  },
  {
   "cell_type": "code",
   "execution_count": 8,
   "id": "531cde1b-4a61-4bac-8970-c72242eb9575",
   "metadata": {},
   "outputs": [],
   "source": [
    "planets = data.Planet\n",
    "year = data['Orbital Period (days)'].apply(one_year)"
   ]
  },
  {
   "cell_type": "code",
   "execution_count": 10,
   "id": "8ca65a18-5363-4c73-8a6c-d283929b4416",
   "metadata": {},
   "outputs": [
    {
     "name": "stdout",
     "output_type": "stream",
     "text": [
      "Satu tahun di Mercury sama dengan kira-kira 0 tahun di Bumi.\n",
      "Satu tahun di Venus sama dengan kira-kira 1 tahun di Bumi.\n",
      "Satu tahun di Earth sama dengan kira-kira 1 tahun di Bumi.\n",
      "Satu tahun di Mars sama dengan kira-kira 2 tahun di Bumi.\n",
      "Satu tahun di Jupiter sama dengan kira-kira 12 tahun di Bumi.\n",
      "Satu tahun di Saturn sama dengan kira-kira 29 tahun di Bumi.\n",
      "Satu tahun di Uranus sama dengan kira-kira 84 tahun di Bumi.\n",
      "Satu tahun di Neptune sama dengan kira-kira 164 tahun di Bumi.\n"
     ]
    }
   ],
   "source": [
    "for p,y in zip(planets,year):\n",
    "    print(f'Satu tahun di {p} sama dengan kira-kira {y} tahun di Bumi.')\n",
    "    "
   ]
  },
  {
   "cell_type": "code",
   "execution_count": 11,
   "id": "193d96cf-1c1b-4883-bfec-285e44be4993",
   "metadata": {},
   "outputs": [
    {
     "data": {
      "text/plain": [
       "Index(['Planet', 'Color', 'Mass (10^24kg)', 'Diameter (km)',\n",
       "       'Density (kg/m^3)', 'Surface Gravity(m/s^2)', 'Escape Velocity (km/s)',\n",
       "       'Rotation Period (hours)', 'Length of Day (hours)',\n",
       "       'Distance from Sun (10^6 km)', 'Perihelion (10^6 km)',\n",
       "       'Aphelion (10^6 km)', 'Orbital Period (days)',\n",
       "       'Orbital Velocity (km/s)', 'Orbital Inclination (degrees)',\n",
       "       'Orbital Eccentricity', 'Obliquity to Orbit (degrees)',\n",
       "       'Mean Temperature (C)', 'Surface Pressure (bars)', 'Number of Moons',\n",
       "       'Ring System?', 'Global Magnetic Field?'],\n",
       "      dtype='object')"
      ]
     },
     "execution_count": 11,
     "metadata": {},
     "output_type": "execute_result"
    }
   ],
   "source": [
    "data.columns"
   ]
  },
  {
   "cell_type": "code",
   "execution_count": 12,
   "id": "fd159422-bd53-483e-b2f4-abe2044fd01b",
   "metadata": {},
   "outputs": [
    {
     "data": {
      "text/plain": [
       "(0.0, 100.0)"
      ]
     },
     "execution_count": 12,
     "metadata": {},
     "output_type": "execute_result"
    },
    {
     "data": {
      "image/png": "[encoded data removed]",
      "text/plain": [
       "<Figure size 640x480 with 1 Axes>"
      ]
     },
     "metadata": {},
     "output_type": "display_data"
    }
   ],
   "source": [
    "sns.barplot(x=data[\"Planet\"],y=data[\"Number of Moons\"])\n",
    "plt.ylim(0, 100)"
   ]
  },
  {
   "cell_type": "code",
   "execution_count": 19,
   "id": "d524ec01-1166-4507-9e0c-27069f12621e",
   "metadata": {},
   "outputs": [
    {
     "data": {
      "text/plain": [
       "'Jupiter'"
      ]
     },
     "execution_count": 19,
     "metadata": {},
     "output_type": "execute_result"
    }
   ],
   "source": [
    "#Planet dengan Maximum Mass\n",
    "data.iloc[data[\"Mass (10^24kg)\"].idxmax()].Planet"
   ]
  },
  {
   "cell_type": "code",
   "execution_count": 20,
   "id": "9b7093bc-472f-4b25-b73f-8a84d997c65f",
   "metadata": {},
   "outputs": [
    {
     "data": {
      "text/plain": [
       "'Earth'"
      ]
     },
     "execution_count": 20,
     "metadata": {},
     "output_type": "execute_result"
    }
   ],
   "source": [
    "#Planet dengan Maximum Density\n",
    "data.iloc[data[\"Density (kg/m^3)\"].idxmax()].Planet"
   ]
  },
  {
   "cell_type": "code",
   "execution_count": 21,
   "id": "62cbe563-f10a-45a5-b5f0-5ae05e2275d0",
   "metadata": {},
   "outputs": [
    {
     "data": {
      "text/plain": [
       "'Jupiter'"
      ]
     },
     "execution_count": 21,
     "metadata": {},
     "output_type": "execute_result"
    }
   ],
   "source": [
    "#Planet dengan Maximum Surface Gravity\n",
    "data.iloc[data[\"Surface Gravity(m/s^2)\"].idxmax()].Planet"
   ]
  },
  {
   "cell_type": "code",
   "execution_count": 22,
   "id": "297cebaf-018b-483d-9db3-77dd2dda2877",
   "metadata": {},
   "outputs": [
    {
     "data": {
      "text/plain": [
       "'Jupiter'"
      ]
     },
     "execution_count": 22,
     "metadata": {},
     "output_type": "execute_result"
    }
   ],
   "source": [
    "#Planet dengan Maximum Escape Velocity (km/s)\n",
    "data.iloc[data[\"Escape Velocity (km/s)\"].idxmax()].Planet"
   ]
  },
  {
   "cell_type": "code",
   "execution_count": 23,
   "id": "d06122a9-934a-42e5-bcac-be9915ca7e28",
   "metadata": {},
   "outputs": [
    {
     "data": {
      "text/plain": [
       "'Saturn'"
      ]
     },
     "execution_count": 23,
     "metadata": {},
     "output_type": "execute_result"
    }
   ],
   "source": [
    "#Planet dengan Maximum Moons\n",
    "data.iloc[data[\"Number of Moons\"].idxmax()].Planet"
   ]
  },
  {
   "cell_type": "code",
   "execution_count": 24,
   "id": "e11110e1-9cbc-4962-9b2a-0c775f8ffed1",
   "metadata": {},
   "outputs": [
    {
     "data": {
      "text/plain": [
       "'Mercury'"
      ]
     },
     "execution_count": 24,
     "metadata": {},
     "output_type": "execute_result"
    }
   ],
   "source": [
    "#Planet dengan Durasi Hari terpanjang (jam)\n",
    "data.iloc[data[\"Length of Day (hours)\"].idxmax()].Planet"
   ]
  },
  {
   "cell_type": "code",
   "execution_count": null,
   "id": "ae96c5d9-887d-41e4-bb16-d67c57e3fcb6",
   "metadata": {},
   "outputs": [],
   "source": []
  }
 ],
 "metadata": {
  "kernelspec": {
   "display_name": "Python 3 (ipykernel)",
   "language": "python",
   "name": "python3"
  },
  "language_info": {
   "codemirror_mode": {
    "name": "ipython",
    "version": 3
   },
   "file_extension": ".py",
   "mimetype": "text/x-python",
   "name": "python",
   "nbconvert_exporter": "python",
   "pygments_lexer": "ipython3",
   "version": "3.11.5"
  }
 },
 "nbformat": 4,
 "nbformat_minor": 5
}
